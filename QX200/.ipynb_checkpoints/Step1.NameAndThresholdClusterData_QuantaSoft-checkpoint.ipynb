{
 "cells": [
  {
   "cell_type": "code",
   "execution_count": 3,
   "id": "fbd30ba7-c36c-4bef-9001-c48eaddc9581",
   "metadata": {
    "scrolled": true
   },
   "outputs": [
    {
     "name": "stdout",
     "output_type": "stream",
     "text": [
      "Manual Threshold for Channel 1 is: 673.9954662647479968545805314\n",
      "The Ch1 means are: ['496.4070144919', '500.241044882783', '518.960405605971']\n",
      "The mean of ch1 means is: 505.202821660218\n",
      "The Ch1 standard deviations are: [np.float64(28.067332976546), np.float64(27.7154451238912), np.float64(28.6135442018278)]\n",
      "The mean of ch1 standard deviations is: 28.13210743408833280909675523\n",
      "Manual Threshold for Channel 2 is: 1256.288472523305860780358974\n",
      "The Ch2 means are: [np.float64(949.093848412307), np.float64(947.750156888288), np.float64(975.500721386716)]\n",
      "The mean of ch2 means is: 957.4482422291036603686128123\n",
      "The Ch2 standard deviations are: [np.float64(49.3417727645824), np.float64(49.7505578124051), np.float64(50.3277845701136)]\n",
      "The mean of ch2 standard deviations is: 49.80670504903370006862436033\n"
     ]
    }
   ],
   "source": [
    "import pandas as pd\n",
    "import numpy as np\n",
    "from decimal import Decimal\n",
    "\n",
    "#>>>>Change path>>>>>>\n",
    "Data = pd.read_csv(\"/Users/qchen2/Desktop/VacA_Plate2_ClusterData.csv\",skiprows=4,header=0,index_col=False)\n",
    "#Add  delimiter=','\n",
    "#>>>> Clean Data to the last column with value minus 5 IF Data from QX Manager>>>>>\n",
    "Data = Data[0:72]\n",
    "#>>>>Change path>>>>>>\n",
    "PlateDesign = pd.read_excel (\"/Users/qchen2/Desktop/VacA_Plate2_Design.xlsx\")\n",
    "\n",
    "Data.insert(1,\"Sample\",'')\n",
    "SampleID = [\"SampleID\"]\n",
    "for i in range(0,len(Data)):\n",
    "    WellID = [*Data.iloc[i,0]]\n",
    "    wid_row = WellID[0]\n",
    "    x = ord(wid_row) - 65\n",
    "    y = int(WellID[1]+WellID[2])-1\n",
    "    PlateDesign.iloc[x,y]\n",
    "    SampleID.append(PlateDesign.iloc[x,y]) \n",
    "Data['Sample'] = SampleID[1:len(SampleID)]\n",
    "\n",
    "Ch1_Mean_H2O = []\n",
    "Ch1_STD_H2O = []\n",
    "\n",
    "for row in Data.index:\n",
    "    for col in Data.columns:\n",
    "        if Data.loc[row, col] == 'H2O' and Data.loc[row,'Target 1'] == \"0\" and Data.loc[row,'Target 2'] == \"0\":\n",
    "            Ch1_Mean_H2O.append(Data.loc[row, 'Ch1 Mean']) \n",
    "            Ch1_STD_H2O.append(Data.loc[row, 'Ch1 StdDev'])\n",
    "Ch1_Mean_Value = [Decimal(d) for d in  Ch1_Mean_H2O]\n",
    "Ch1_STD_Value = [Decimal(d) for d in  Ch1_STD_H2O]\n",
    "CH1_MTH = (sum(Ch1_Mean_Value)/len(Ch1_Mean_Value)) + 6*(sum(Ch1_STD_Value)/len(Ch1_STD_Value))\n",
    "print ('Manual Threshold for Channel 1 is:', CH1_MTH)\n",
    "print ('The Ch1 means are:', Ch1_Mean_H2O)\n",
    "print ('The mean of ch1 means is:', sum(Ch1_Mean_Value)/len(Ch1_Mean_Value))\n",
    "print ('The Ch1 standard deviations are:', Ch1_STD_H2O)\n",
    "print ('The mean of ch1 standard deviations is:', sum(Ch1_STD_Value)/len(Ch1_STD_Value))\n",
    "\n",
    "Ch2_Mean_H2O = []\n",
    "Ch2_STD_H2O = []\n",
    "\n",
    "for row in Data.index:\n",
    "    for col in Data.columns:\n",
    "        if Data.loc[row, col] == 'H2O' and Data.loc[row,'Target 1'] == \"0\" and Data.loc[row,'Target 2'] == \"0\":\n",
    "            Ch2_Mean_H2O.append(Data.loc[row, 'Ch2 Mean']) \n",
    "            Ch2_STD_H2O.append(Data.loc[row, 'Ch2 StdDev'])\n",
    "Ch2_Mean_Value = [Decimal(d) for d in  Ch2_Mean_H2O]\n",
    "Ch2_STD_Value = [Decimal(d) for d in  Ch2_STD_H2O]\n",
    "CH2_MTH = (sum(Ch2_Mean_Value)/len(Ch2_Mean_Value)) + 6*(sum(Ch2_STD_Value)/len(Ch2_STD_Value))\n",
    "print ('Manual Threshold for Channel 2 is:', CH2_MTH)\n",
    "print ('The Ch2 means are:', Ch2_Mean_H2O)\n",
    "print ('The mean of ch2 means is:', sum(Ch2_Mean_Value)/len(Ch2_Mean_Value))\n",
    "print ('The Ch2 standard deviations are:', Ch2_STD_H2O)\n",
    "print ('The mean of ch2 standard deviations is:', sum(Ch2_STD_Value)/len(Ch2_STD_Value))\n",
    "\n",
    "#>>>>>>> Activate code to puke file>>>>>>>>>>\n",
    "#Data.to_excel('VacA_Plate2_ClusterData_WithID.xlsx', index=False)"
   ]
  },
  {
   "cell_type": "code",
   "execution_count": null,
   "id": "b388f92f-be4a-4460-be7c-32377d59a35b",
   "metadata": {},
   "outputs": [],
   "source": []
  }
 ],
 "metadata": {
  "kernelspec": {
   "display_name": "Python 3 (ipykernel)",
   "language": "python",
   "name": "python3"
  },
  "language_info": {
   "codemirror_mode": {
    "name": "ipython",
    "version": 3
   },
   "file_extension": ".py",
   "mimetype": "text/x-python",
   "name": "python",
   "nbconvert_exporter": "python",
   "pygments_lexer": "ipython3",
   "version": "3.12.6"
  }
 },
 "nbformat": 4,
 "nbformat_minor": 5
}
