{
 "cells": [
  {
   "cell_type": "code",
   "execution_count": null,
   "id": "e9a6f7a4-c445-4d98-8365-5035bf8cb7b0",
   "metadata": {},
   "outputs": [],
   "source": [
    "### INPROGREE>>> UNFINISHED \n",
    "import pandas as pd\n",
    "import numpy as np\n",
    "MTH = pd.read_excel (\"/Users/qchen2/Desktop/18S_ddPCR_Plate3_MTH_withID.xlsx\")\n",
    "MasterList = pd.read_excel (\"/Users/qchen2/Desktop/Prospective Master List.xlsx\")\n",
    "MTH.insert(4,\"Average Conc (copies/uL)\",'')\n",
    "sorted_MTH = MTH.sort_values(by=['Sample','Target'])\n",
    "sorted_MTH['Conc(copies/µL)'] = pd.to_numeric(sorted_MTH['Conc(copies/µL)'], errors='coerce')\n",
    "sorted_MTH['Average Conc (copies/uL)'] = 0.0\n",
    "mask = (sorted_MTH['Sample'].shift() == sorted_MTH['Sample']) & (sorted_MTH['Target'].shift() == sorted_MTH['Target'])\n",
    "sorted_MTH.loc[mask, 'Average Conc (copies/uL)'] = (sorted_MTH['Conc(copies/µL)'].shift() + sorted_MTH['Conc(copies/µL)']) / 2\n",
    "AVRC = sorted_MTH[sorted_MTH['Average Conc (copies/uL)'] != 0.0]\n",
    "AVRC = AVRC[['Sample', 'Target', 'Average Conc (copies/uL)']]\n",
    "avrc_18S = AVRC[AVRC['Target'] == '18S-Hex']\n",
    "matching_indices_avrc = []\n",
    "matching_indices_MasterList = []\n",
    "unmatched_values = []\n",
    "unmatched_values = []\n",
    "for idx1, row1 in avrc_18S.iterrows():\n",
    "    for idx2, row2 in MasterList.iterrows():\n",
    "        found_match = False\n",
    "        if row1.iloc[0] == row2.iloc[0]:\n",
    "            col_index = 38\n",
    "            MasterList.iloc[idx2, col_index] = row1.iloc[2] \n",
    "            found_match = True\n",
    "            break \n",
    "    if not found_match:\n",
    "        unmatched_values.append(row1.iloc[0])\n",
    "print (\"These samples are not found in the MasterList:\", unmatched_values)\n",
    "MasterList.to_excel('MasterList_Updated_02July2024.xlsx', index=False)\n",
    "# Do the same thing for average positives if interested\n",
    "# Fill the \"Positive drople\" with the average positives\n",
    "# if average positives for a target is == 5 or more, call it positive \n",
    "# HP 16S\t0,1\t0= Negative, 1=Positive\n",
    "# CagA\t0,1\t0= Negative, 1=Positive\n",
    "# EPIYA\t0,1,2,3\t0=Negative, 1=EPIYA C, 2=EPIYA D, 3=EPIYA Mixed\n",
    "# VacA\t0,1,2,3\t0=Negative, 1=VacA i1, 2=VacA i2, 3=VacA Mixed\n",
    "#Fill the status of prospective masterlist with the results"
   ]
  }
 ],
 "metadata": {
  "kernelspec": {
   "display_name": "Python 3 (ipykernel)",
   "language": "python",
   "name": "python3"
  },
  "language_info": {
   "codemirror_mode": {
    "name": "ipython",
    "version": 3
   },
   "file_extension": ".py",
   "mimetype": "text/x-python",
   "name": "python",
   "nbconvert_exporter": "python",
   "pygments_lexer": "ipython3",
   "version": "3.11.7"
  }
 },
 "nbformat": 4,
 "nbformat_minor": 5
}
