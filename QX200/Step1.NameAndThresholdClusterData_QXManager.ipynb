{
 "cells": [
  {
   "cell_type": "code",
   "execution_count": 1,
   "id": "fbd30ba7-c36c-4bef-9001-c48eaddc9581",
   "metadata": {
    "scrolled": true
   },
   "outputs": [
    {
     "ename": "ZeroDivisionError",
     "evalue": "division by zero",
     "output_type": "error",
     "traceback": [
      "\u001b[0;31m---------------------------------------------------------------------------\u001b[0m",
      "\u001b[0;31mZeroDivisionError\u001b[0m                         Traceback (most recent call last)",
      "Cell \u001b[0;32mIn[1], line 34\u001b[0m\n\u001b[1;32m     32\u001b[0m Ch1_Mean_Value \u001b[38;5;241m=\u001b[39m [Decimal(d) \u001b[38;5;28;01mfor\u001b[39;00m d \u001b[38;5;129;01min\u001b[39;00m  Ch1_Mean_H2O]\n\u001b[1;32m     33\u001b[0m Ch1_STD_Value \u001b[38;5;241m=\u001b[39m [Decimal(d) \u001b[38;5;28;01mfor\u001b[39;00m d \u001b[38;5;129;01min\u001b[39;00m  Ch1_STD_H2O]\n\u001b[0;32m---> 34\u001b[0m CH1_MTH \u001b[38;5;241m=\u001b[39m (\u001b[38;5;28;43msum\u001b[39;49m\u001b[43m(\u001b[49m\u001b[43mCh1_Mean_Value\u001b[49m\u001b[43m)\u001b[49m\u001b[38;5;241;43m/\u001b[39;49m\u001b[38;5;28;43mlen\u001b[39;49m\u001b[43m(\u001b[49m\u001b[43mCh1_Mean_Value\u001b[49m\u001b[43m)\u001b[49m) \u001b[38;5;241m+\u001b[39m \u001b[38;5;241m6\u001b[39m\u001b[38;5;241m*\u001b[39m(\u001b[38;5;28msum\u001b[39m(Ch1_STD_Value)\u001b[38;5;241m/\u001b[39m\u001b[38;5;28mlen\u001b[39m(Ch1_STD_Value))\n\u001b[1;32m     35\u001b[0m \u001b[38;5;28mprint\u001b[39m (\u001b[38;5;124m'\u001b[39m\u001b[38;5;124mManual Threshold for Channel 1 is:\u001b[39m\u001b[38;5;124m'\u001b[39m, CH1_MTH)\n\u001b[1;32m     36\u001b[0m \u001b[38;5;28mprint\u001b[39m (\u001b[38;5;124m'\u001b[39m\u001b[38;5;124mThe Ch1 means are:\u001b[39m\u001b[38;5;124m'\u001b[39m, Ch1_Mean_H2O)\n",
      "\u001b[0;31mZeroDivisionError\u001b[0m: division by zero"
     ]
    }
   ],
   "source": [
    "import pandas as pd\n",
    "import numpy as np\n",
    "from decimal import Decimal\n",
    "\n",
    "#>>>>Change path>>>>>>\n",
    "Data = pd.read_csv(\"/Users/qchen2/Desktop/CagA16S_Plate1_ClusterData.csv\",skiprows=4,header=0,index_col=False)\n",
    "#Add  delimiter=','\n",
    "#>>>> Clean Data to the last column with value minus 5 IF Data from QX Manager>>>>>\n",
    "Data = Data[0:72]\n",
    "#>>>>Change path>>>>>>\n",
    "PlateDesign = pd.read_excel (\"/Users/qchen2/Desktop/CagA16S_Plate1_PlateDesign.xlsx\")\n",
    "\n",
    "Data.insert(1,\"Sample\",'')\n",
    "SampleID = [\"SampleID\"]\n",
    "for i in range(0,len(Data)):\n",
    "    WellID = [*Data.iloc[i,0]]\n",
    "    wid_row = WellID[0]\n",
    "    x = ord(wid_row) - 65\n",
    "    y = int(WellID[1]+WellID[2])-1\n",
    "    PlateDesign.iloc[x,y]\n",
    "    SampleID.append(PlateDesign.iloc[x,y]) \n",
    "Data['Sample'] = SampleID[1:len(SampleID)]\n",
    "\n",
    "Ch1_Mean_H2O = []\n",
    "Ch1_STD_H2O = []\n",
    "\n",
    "for row in Data.index:\n",
    "    for col in Data.columns:\n",
    "        if Data.loc[row, col] == 'H2O' and Data.loc[row,'Target 1'] == \"0\" and Data.loc[row,'Target 2'] == \"0\":\n",
    "            Ch1_Mean_H2O.append(Data.loc[row, 'Ch1 Mean']) \n",
    "            Ch1_STD_H2O.append(Data.loc[row, 'Ch1 StdDev'])\n",
    "Ch1_Mean_Value = [Decimal(d) for d in  Ch1_Mean_H2O]\n",
    "Ch1_STD_Value = [Decimal(d) for d in  Ch1_STD_H2O]\n",
    "CH1_MTH = (sum(Ch1_Mean_Value)/len(Ch1_Mean_Value)) + 6*(sum(Ch1_STD_Value)/len(Ch1_STD_Value))\n",
    "print ('Manual Threshold for Channel 1 is:', CH1_MTH)\n",
    "print ('The Ch1 means are:', Ch1_Mean_H2O)\n",
    "print ('The mean of ch1 means is:', sum(Ch1_Mean_Value)/len(Ch1_Mean_Value))\n",
    "print ('The Ch1 standard deviations are:', Ch1_STD_H2O)\n",
    "print ('The mean of ch1 standard deviations is:', sum(Ch1_STD_Value)/len(Ch1_STD_Value))\n",
    "\n",
    "Ch2_Mean_H2O = []\n",
    "Ch2_STD_H2O = []\n",
    "\n",
    "for row in Data.index:\n",
    "    for col in Data.columns:\n",
    "        if Data.loc[row, col] == 'H2O' and Data.loc[row,'Target 1'] == \"0\" and Data.loc[row,'Target 2'] == \"0\":\n",
    "            Ch2_Mean_H2O.append(Data.loc[row, 'Ch2 Mean']) \n",
    "            Ch2_STD_H2O.append(Data.loc[row, 'Ch2 StdDev'])\n",
    "Ch2_Mean_Value = [Decimal(d) for d in  Ch2_Mean_H2O]\n",
    "Ch2_STD_Value = [Decimal(d) for d in  Ch2_STD_H2O]\n",
    "CH2_MTH = (sum(Ch2_Mean_Value)/len(Ch2_Mean_Value)) + 6*(sum(Ch2_STD_Value)/len(Ch2_STD_Value))\n",
    "print ('Manual Threshold for Channel 2 is:', CH2_MTH)\n",
    "print ('The Ch2 means are:', Ch2_Mean_H2O)\n",
    "print ('The mean of ch2 means is:', sum(Ch2_Mean_Value)/len(Ch2_Mean_Value))\n",
    "print ('The Ch2 standard deviations are:', Ch2_STD_H2O)\n",
    "print ('The mean of ch2 standard deviations is:', sum(Ch2_STD_Value)/len(Ch2_STD_Value))\n",
    "\n",
    "#>>>>>>> Activate code to puke file>>>>>>>>>>\n",
    "#Data.to_excel('VacA_Plate2_ClusterData_WithID.xlsx', index=False)"
   ]
  },
  {
   "cell_type": "code",
   "execution_count": null,
   "id": "b388f92f-be4a-4460-be7c-32377d59a35b",
   "metadata": {},
   "outputs": [],
   "source": []
  }
 ],
 "metadata": {
  "kernelspec": {
   "display_name": "Python 3 (ipykernel)",
   "language": "python",
   "name": "python3"
  },
  "language_info": {
   "codemirror_mode": {
    "name": "ipython",
    "version": 3
   },
   "file_extension": ".py",
   "mimetype": "text/x-python",
   "name": "python",
   "nbconvert_exporter": "python",
   "pygments_lexer": "ipython3",
   "version": "3.12.6"
  }
 },
 "nbformat": 4,
 "nbformat_minor": 5
}
