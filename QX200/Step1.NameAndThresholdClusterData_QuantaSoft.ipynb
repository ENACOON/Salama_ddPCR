{
 "cells": [
  {
   "cell_type": "code",
   "execution_count": 24,
   "id": "fbd30ba7-c36c-4bef-9001-c48eaddc9581",
   "metadata": {
    "scrolled": true
   },
   "outputs": [
    {
     "name": "stdout",
     "output_type": "stream",
     "text": [
      "[Decimal('4274.8131531979297506040893495082855224609375'), Decimal('4328.4110352611396592692472040653228759765625')]\n",
      "[Decimal('94.8753772505114056912134401500225067138671875'), Decimal('119.1139990189389976649181335233151912689208984375')]\n",
      "\u001b[1mManual Threshold for Channel 1 is:\u001b[0m 4943.580223037885915005062998\n",
      "The Ch1 means are: [np.float64(4274.81315319793), np.float64(4328.41103526114)]\n",
      "The mean of ch1 means is: 4301.612094229534704936668277\n",
      "The Ch1 standard deviations are: [np.float64(94.8753772505114), np.float64(119.113999018939)]\n",
      "The mean of ch1 standard deviations is: 106.9946881347252016780657868\n",
      "\u001b[1mManual Threshold for Channel 2 is:\u001b[0m 4774.919281669393100742126990\n",
      "The Ch2 means are: [np.float64(3980.24460030005), np.float64(4068.19578612888)]\n",
      "The mean of ch2 means is: 4024.220193214465098208165728\n",
      "The Ch2 standard deviations are: [np.float64(114.988845249915), np.float64(135.244184235061)]\n",
      "The mean of ch2 standard deviations is: 125.1165147424880004223268770\n"
     ]
    }
   ],
   "source": [
    "import pandas as pd\n",
    "import numpy as np\n",
    "from decimal import Decimal\n",
    "\n",
    "#>>>>Change path>>>>>>\n",
    "Data = pd.read_csv(\"/Users/qchen2/Desktop/CagA16S_Plate1_ClusterData.csv\",skiprows=4,header=0,index_col=False)\n",
    "#Add  delimiter=','\n",
    "#>>>> Clean Data to the last column with value minus 5 IF Data from QX Manager>>>>>\n",
    "#Data = Data[0:72]\n",
    "#>>>>Change path>>>>>>\n",
    "PlateDesign = pd.read_excel (\"/Users/qchen2/Desktop/CagA16S_Plate1_PlateDesign.xlsx\")\n",
    "Data.insert(1,\"Sample\",'')\n",
    "SampleID = [\"SampleID\"]\n",
    "for i in range(0,len(Data)):\n",
    "    WellID = [*Data.iloc[i,0]]\n",
    "    wid_row = WellID[0]\n",
    "    x = ord(wid_row) - 65\n",
    "    y = int(WellID[1]+WellID[2])-1\n",
    "    PlateDesign.iloc[x,y]\n",
    "    SampleID.append(PlateDesign.iloc[x,y]) \n",
    "Data['Sample'] = SampleID[1:len(SampleID)]\n",
    "#print (Data.head())\n",
    "Ch1_Mean_H2O = []\n",
    "Ch1_STD_H2O = []\n",
    "for row in Data.index:\n",
    "    for col in Data.columns:\n",
    "        # If QXmanager, treat 0 as text: \"0\"\n",
    "        # If Quantasoft, treat 0 as number: 0\n",
    "        if Data.loc[row, col] == 'H2O' and Data.loc[row,'Target 1'] == 0 and Data.loc[row,'Target 2'] == 0:\n",
    "            Ch1_Mean_H2O.append(Data.loc[row, 'Ch1 Mean']) \n",
    "            Ch1_STD_H2O.append(Data.loc[row, 'Ch1 StdDev'])\n",
    "Ch1_Mean_Value = [Decimal(d) for d in  Ch1_Mean_H2O]\n",
    "Ch1_STD_Value = [Decimal(d) for d in  Ch1_STD_H2O]\n",
    "print (Ch1_Mean_Value)\n",
    "print (Ch1_STD_Value)\n",
    "\n",
    "CH1_MTH = (sum(Ch1_Mean_Value)/len(Ch1_Mean_Value)) + 6*(sum(Ch1_STD_Value)/len(Ch1_STD_Value))\n",
    "print ('\\033[1m'+'Manual Threshold for Channel 1 is:'+'\\033[0m', CH1_MTH)\n",
    "print ('The Ch1 means are:', Ch1_Mean_H2O)\n",
    "print ('The mean of ch1 means is:', sum(Ch1_Mean_Value)/len(Ch1_Mean_Value))\n",
    "print ('The Ch1 standard deviations are:', Ch1_STD_H2O)\n",
    "print ('The mean of ch1 standard deviations is:', sum(Ch1_STD_Value)/len(Ch1_STD_Value))\n",
    "\n",
    "Ch2_Mean_H2O = []\n",
    "Ch2_STD_H2O = []\n",
    "\n",
    "for row in Data.index:\n",
    "    for col in Data.columns:\n",
    "        # If QXmanager, treat 0 as text: \"0\"\n",
    "        # If Quantasoft, treat 0 as number: 0\n",
    "        if Data.loc[row, col] == 'H2O' and Data.loc[row,'Target 1'] == 0 and Data.loc[row,'Target 2'] == 0:\n",
    "            Ch2_Mean_H2O.append(Data.loc[row, 'Ch2 Mean']) \n",
    "            Ch2_STD_H2O.append(Data.loc[row, 'Ch2 StdDev'])\n",
    "Ch2_Mean_Value = [Decimal(d) for d in  Ch2_Mean_H2O]\n",
    "Ch2_STD_Value = [Decimal(d) for d in  Ch2_STD_H2O]\n",
    "CH2_MTH = (sum(Ch2_Mean_Value)/len(Ch2_Mean_Value)) + 6*(sum(Ch2_STD_Value)/len(Ch2_STD_Value))\n",
    "print ('\\033[1m'+'Manual Threshold for Channel 2 is:'+'\\033[0m', CH2_MTH)\n",
    "print ('The Ch2 means are:', Ch2_Mean_H2O)\n",
    "print ('The mean of ch2 means is:', sum(Ch2_Mean_Value)/len(Ch2_Mean_Value))\n",
    "print ('The Ch2 standard deviations are:', Ch2_STD_H2O)\n",
    "print ('The mean of ch2 standard deviations is:', sum(Ch2_STD_Value)/len(Ch2_STD_Value))\n",
    "\n",
    "#Data.to_excel('CagA16S_Plate1_ClusterData_WithID.xlsx', index=False)"
   ]
  },
  {
   "cell_type": "code",
   "execution_count": null,
   "id": "64410d9e-492a-465b-baaf-0be7cb99ee45",
   "metadata": {},
   "outputs": [],
   "source": []
  }
 ],
 "metadata": {
  "kernelspec": {
   "display_name": "Python 3 (ipykernel)",
   "language": "python",
   "name": "python3"
  },
  "language_info": {
   "codemirror_mode": {
    "name": "ipython",
    "version": 3
   },
   "file_extension": ".py",
   "mimetype": "text/x-python",
   "name": "python",
   "nbconvert_exporter": "python",
   "pygments_lexer": "ipython3",
   "version": "3.12.6"
  }
 },
 "nbformat": 4,
 "nbformat_minor": 5
}
