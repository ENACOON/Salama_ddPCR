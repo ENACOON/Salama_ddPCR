{
 "cells": [
  {
   "cell_type": "code",
   "execution_count": 1,
   "id": "567085ca-034c-42a4-a910-c321ec4dfc69",
   "metadata": {},
   "outputs": [],
   "source": [
    "import pandas as pd\n",
    "import numpy as np\n",
    "\n",
    "#>>>>Change path>>>>>>\n",
    "Data = pd.read_excel (\"/Users/qchen2/Desktop/CagA16S_Plate1_MTH.xlsx\")\n",
    "#Add  delimiter=','\n",
    "#>>>>Change path>>>>>>\n",
    "PlateDesign = pd.read_excel (\"/Users/qchen2/Desktop/CagA16S_Plate1_PlateDesign.xlsx\")\n",
    "#>>>Need to add a Sample Column and Delete SampleDescriton if data is from QXmanager\n",
    "Data = Data.drop(Data.columns[1:5], axis=1)\n",
    "Data.insert(1, \"Sample\",\"\")\n",
    "\n",
    "SampleID = []\n",
    "for i in range(0,len(Data)):\n",
    "    WellID = [*Data.iloc[i,0]]\n",
    "    wid_row = WellID[0]\n",
    "    x = ord(wid_row) - 65\n",
    "    y = int(WellID[1]+WellID[2])-1\n",
    "    PlateDesign.iloc[x,y]\n",
    "    SampleID.append(PlateDesign.iloc[x,y]) \n",
    "Data['Sample'] = SampleID\n",
    "Data.to_excel('CagA16S_Plate1_MTH_WithID.xlsx', index=False)"
   ]
  },
  {
   "cell_type": "code",
   "execution_count": null,
   "id": "97f68018-caeb-4cb4-b2ef-a0bc038208fe",
   "metadata": {},
   "outputs": [],
   "source": []
  }
 ],
 "metadata": {
  "kernelspec": {
   "display_name": "Python 3 (ipykernel)",
   "language": "python",
   "name": "python3"
  },
  "language_info": {
   "codemirror_mode": {
    "name": "ipython",
    "version": 3
   },
   "file_extension": ".py",
   "mimetype": "text/x-python",
   "name": "python",
   "nbconvert_exporter": "python",
   "pygments_lexer": "ipython3",
   "version": "3.12.6"
  }
 },
 "nbformat": 4,
 "nbformat_minor": 5
}
