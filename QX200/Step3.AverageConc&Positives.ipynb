{
 "cells": [
  {
   "cell_type": "code",
   "execution_count": 1,
   "id": "e9a6f7a4-c445-4d98-8365-5035bf8cb7b0",
   "metadata": {},
   "outputs": [],
   "source": [
    "import pandas as pd\n",
    "import numpy as np\n",
    "#>>>>> Change Path >>>>>>>>\n",
    "MTH = pd.read_excel (\"/Users/qchen2/Desktop/CagA16S_Plate1_MTH_WithID.xlsx\")\n",
    "MTH.insert(4,\"Average Conc (copies/uL)\",'')\n",
    "MTH.insert(13,\"Average Positives\",'')\n",
    "\n",
    "sorted_MTH = MTH.sort_values(by=['Sample','Target'])\n",
    "sorted_MTH['Conc(copies/µL)'] = pd.to_numeric(sorted_MTH['Conc(copies/µL)'], errors='coerce')\n",
    "sorted_MTH['Average Conc (copies/uL)'] = \"\"\n",
    "\n",
    "sorted_MTH['Positives'] = pd.to_numeric(sorted_MTH['Positives'], errors='coerce')\n",
    "sorted_MTH['Average Positives'] = \"\"\n",
    "\n",
    "mask = (sorted_MTH['Sample'].shift() \n",
    "        == sorted_MTH['Sample']) & (sorted_MTH['Target'].shift() == sorted_MTH['Target'])\n",
    "sorted_MTH.loc[mask, 'Average Conc (copies/uL)'] = (sorted_MTH['Conc(copies/µL)'].shift() + sorted_MTH['Conc(copies/µL)']) / 2\n",
    "sorted_MTH.loc[mask, 'Average Positives'] = (sorted_MTH['Positives'].shift() + sorted_MTH['Positives']) / 2\n",
    "\n",
    "#>>>Change File Name>>>>>\n",
    "sorted_MTH.to_excel('CagA16S_Plate1_MTH_WithID_Averaged.xlsx', index=False)"
   ]
  },
  {
   "cell_type": "code",
   "execution_count": null,
   "id": "6e879d5f-906b-4b00-81db-6634f26714d6",
   "metadata": {},
   "outputs": [],
   "source": []
  }
 ],
 "metadata": {
  "kernelspec": {
   "display_name": "Python 3 (ipykernel)",
   "language": "python",
   "name": "python3"
  },
  "language_info": {
   "codemirror_mode": {
    "name": "ipython",
    "version": 3
   },
   "file_extension": ".py",
   "mimetype": "text/x-python",
   "name": "python",
   "nbconvert_exporter": "python",
   "pygments_lexer": "ipython3",
   "version": "3.12.6"
  }
 },
 "nbformat": 4,
 "nbformat_minor": 5
}
