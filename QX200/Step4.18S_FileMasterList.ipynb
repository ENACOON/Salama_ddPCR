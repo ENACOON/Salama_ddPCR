{
 "cells": [
  {
   "cell_type": "code",
   "execution_count": 5,
   "id": "1f54a6f7-9d19-4862-9fc0-4955b74cf6a4",
   "metadata": {},
   "outputs": [
    {
     "name": "stdout",
     "output_type": "stream",
     "text": [
      "These samples are not found in the MasterList: ['18S (0.001pg/ul)', '18S (0.01pg/ul)', '18S (0.1pg/ul)', 'H2O']\n"
     ]
    }
   ],
   "source": [
    "import pandas as pd\n",
    "import numpy as np\n",
    "ANA = pd.read_excel (\"/Users/qchen2/Desktop/18S_Plate3_MTH_Averaged.xlsx\")\n",
    "MasterList = pd.read_excel (\"/Users/qchen2/Desktop/MasterList_18S_Plate2_Updated.xlsx\")\n",
    "AVRS = ANA.dropna()\n",
    "AVRS = AVRS[['Sample', 'Target', 'Average Conc (copies/uL)','Average Positives']]\n",
    "\n",
    "avrs = AVRS[AVRS['Target'] == '18S-Hex']\n",
    "\n",
    "unmatched_values = []\n",
    "for x1, y1 in avrs.iterrows():\n",
    "    for x2, y2 in MasterList.iterrows():\n",
    "        found_match = False \n",
    "        if y1.iloc[0] == y2.iloc[0]:\n",
    "            y2.iloc[20] = y1.iloc[3]#COLUMN U for Positive Droplets\n",
    "            y2.iloc[38] = y1.iloc[2]#COLUM AM for Concentration\n",
    "            found_match = True\n",
    "            break\n",
    "    if not found_match:\n",
    "        unmatched_values.append(y1.iloc[0])\n",
    "        \n",
    "print (\"These samples are not found in the MasterList:\", unmatched_values)\n",
    "MasterList.columns = [\"\" if \"Unnamed\" in str(col) else col for col in MasterList.columns]\n",
    "MasterList.to_excel('MasterList_18S_Plate3_Updated.xlsx', index=False)"
   ]
  },
  {
   "cell_type": "code",
   "execution_count": null,
   "id": "75aab5f1-ea51-4487-8d6c-2f61cdf98115",
   "metadata": {},
   "outputs": [],
   "source": []
  }
 ],
 "metadata": {
  "kernelspec": {
   "display_name": "Python 3 (ipykernel)",
   "language": "python",
   "name": "python3"
  },
  "language_info": {
   "codemirror_mode": {
    "name": "ipython",
    "version": 3
   },
   "file_extension": ".py",
   "mimetype": "text/x-python",
   "name": "python",
   "nbconvert_exporter": "python",
   "pygments_lexer": "ipython3",
   "version": "3.12.6"
  }
 },
 "nbformat": 4,
 "nbformat_minor": 5
}
