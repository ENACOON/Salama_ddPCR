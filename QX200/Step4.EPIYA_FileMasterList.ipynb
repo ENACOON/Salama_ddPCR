{
 "cells": [
  {
   "cell_type": "code",
   "execution_count": 20,
   "id": "1f54a6f7-9d19-4862-9fc0-4955b74cf6a4",
   "metadata": {},
   "outputs": [
    {
     "ename": "AttributeError",
     "evalue": "'int' object has no attribute 'iloc'",
     "output_type": "error",
     "traceback": [
      "\u001b[0;31m---------------------------------------------------------------------------\u001b[0m",
      "\u001b[0;31mAttributeError\u001b[0m                            Traceback (most recent call last)",
      "Cell \u001b[0;32mIn[20], line 50\u001b[0m\n\u001b[1;32m     48\u001b[0m     \u001b[38;5;66;03m# IF VacA i1 Droplets <5 and VacA i2 Droplets <5: Status = 0\u001b[39;00m\n\u001b[1;32m     49\u001b[0m     \u001b[38;5;28;01mif\u001b[39;00m MasterList\u001b[38;5;241m.\u001b[39miloc[x,\u001b[38;5;241m16\u001b[39m] \u001b[38;5;241m<\u001b[39m \u001b[38;5;241m5\u001b[39m \u001b[38;5;129;01mand\u001b[39;00m MasterList\u001b[38;5;241m.\u001b[39miloc[x,\u001b[38;5;241m17\u001b[39m] \u001b[38;5;241m<\u001b[39m \u001b[38;5;241m5\u001b[39m:\n\u001b[0;32m---> 50\u001b[0m         \u001b[43mx\u001b[49m\u001b[38;5;241;43m.\u001b[39;49m\u001b[43miloc\u001b[49m[\u001b[38;5;241m10\u001b[39m] \u001b[38;5;241m=\u001b[39m \u001b[38;5;241m0\u001b[39m\n\u001b[1;32m     52\u001b[0m \u001b[38;5;66;03m#Coding explanations\t\t\u001b[39;00m\n\u001b[1;32m     53\u001b[0m \u001b[38;5;66;03m#HP 16S\t0,1\t0= Negative, 1=Positive\u001b[39;00m\n\u001b[1;32m     54\u001b[0m \u001b[38;5;66;03m#CagA\t0,1\t0= Negative, 1=Positive\u001b[39;00m\n\u001b[1;32m     55\u001b[0m \u001b[38;5;66;03m#EPIYA\t0,1,2,3\t0=Negative, 1=EPIYA C, 2=EPIYA D, 3=EPIYA Mixed\u001b[39;00m\n\u001b[1;32m     56\u001b[0m \u001b[38;5;66;03m#VacA\t0,1,2,3\t0=Negative, 1=VacA i1, 2=VacA i2, 3=VacA Mixed\u001b[39;00m\n\u001b[1;32m     58\u001b[0m \u001b[38;5;28mprint\u001b[39m (\u001b[38;5;124m\"\u001b[39m\u001b[38;5;124mThese samples are not found in the MasterList:\u001b[39m\u001b[38;5;124m\"\u001b[39m, unmatched_values)\n",
      "\u001b[0;31mAttributeError\u001b[0m: 'int' object has no attribute 'iloc'"
     ]
    }
   ],
   "source": [
    "import pandas as pd\n",
    "import numpy as np\n",
    "ANA = pd.read_excel (\"/Users/qchen2/Desktop/VacA_Plate1_MTH_Averaged.xlsx\")\n",
    "MasterList = pd.read_excel (\"/Users/qchen2/Desktop/TEST_MasterList.xlsx\")\n",
    "AVRS = ANA.dropna()\n",
    "AVRS = AVRS[['Sample', 'Target', 'Average Conc (copies/uL)','Average Positives']]\n",
    "#18S-HEX\n",
    "#CagA-FAM; 16S-HEX\n",
    "#EPIYA_D - FAM; EPIYA_C - HEX\n",
    "#VacA_i2 - FAM; VacA_i1 - HEX\n",
    "avrs_FAM = AVRS[AVRS['Target'] == 'FAM']\n",
    "avrs_HEX = AVRS[AVRS['Target'] == 'HEX']\n",
    "\n",
    "unmatched_values = []\n",
    "for x1, y1 in avrs_FAM.iterrows():\n",
    "    for x2, y2 in MasterList.iterrows():\n",
    "        found_match = False \n",
    "        if y1.iloc[0] == y2.iloc[0]:\n",
    "            #>>>>>>>>>>>>>>>>>>>>>>>>>>>>>>>>>>>>>>>>FIX LOCATION OF CELL HERE>>>>>>>>>>>>>>>>>>>>>>>>\n",
    "            y2.iloc[17] = y1.iloc[3]# COLUMN R for Positive Droplets of VacA i2 y2.iloc[17]\n",
    "            y2.iloc[35] = y1.iloc[2] # COLUMN AJ for Concentration of VacA i2 y2.iloc[35]\n",
    "            found_match = True\n",
    "            break\n",
    "    if not found_match:\n",
    "        unmatched_values.append(y1.iloc[0])\n",
    "\n",
    "for x0, y0 in avrs_HEX.iterrows():\n",
    "    for x2, y2 in MasterList.iterrows():\n",
    "        found_match = False \n",
    "        if y0.iloc[0] == y2.iloc[0]:\n",
    "            #>>>>>>>>>>>>>>>>>>>>>>>>>>>>>>>>>>>>>>>>FIX LOCATION OF CELL HERE>>>>>>>>>>>>>>>>>>>>>>>>\n",
    "            y2.iloc[16] = y0.iloc[3] # COLUMN Q for Positive Droplets of VacA i1 y2.iloc[16]\n",
    "            y2.iloc[34] = y0.iloc[2]  # COLUMN AI for Concentration of VacA i1 y2.iloc[34]\n",
    "            found_match = True\n",
    "            break\n",
    "    if not found_match:\n",
    "        unmatched_values.append(y0.iloc[0])\n",
    "\n",
    " # COLUMN K for Status of VacA y2.iloc[10]\n",
    "#>>>>>>>>>>>>>>>>>>>>>>>>>>>>>>>>>>>>>>>>FIX LOCATION OF CELL HERE>>>>>>>>>>>>>>>>>>>>>>>>\n",
    "for x in range(2, len(MasterList)):\n",
    "    # IF VacA i1 Droplets > 5 and VacA i2 Droplets >5: Status = 3\n",
    "    if MasterList.iloc[x,16] > 5 and MasterList.iloc[x,17] > 5:\n",
    "        MasterList(x,10) = 3\n",
    "    # IF VacA i1 Droplets > 5 and VacA i2 Droplets <5: Status = 1\n",
    "    if MasterList.iloc[x,16] > 5 and MasterList.iloc[x,17] < 5:\n",
    "        x.iloc[10] = 1\n",
    "    # IF VacA i1 Droplets < 5 and VacA i2 Droplets >5: Status = 2\n",
    "    if MasterList.iloc[x,16] < 5 and MasterList.iloc[x,17] > 5:\n",
    "        x.iloc[10] = 2\n",
    "    # IF VacA i1 Droplets <5 and VacA i2 Droplets <5: Status = 0\n",
    "    if MasterList.iloc[x,16] < 5 and MasterList.iloc[x,17] < 5:\n",
    "        x.iloc[10] = 0\n",
    "\n",
    "#Coding explanations\t\t\n",
    "#HP 16S\t0,1\t0= Negative, 1=Positive\n",
    "#CagA\t0,1\t0= Negative, 1=Positive\n",
    "#EPIYA\t0,1,2,3\t0=Negative, 1=EPIYA C, 2=EPIYA D, 3=EPIYA Mixed\n",
    "#VacA\t0,1,2,3\t0=Negative, 1=VacA i1, 2=VacA i2, 3=VacA Mixed\n",
    "\n",
    "print (\"These samples are not found in the MasterList:\", unmatched_values)\n",
    "MasterList.columns = [\"\" if \"Unnamed\" in str(col) else col for col in MasterList.columns]\n",
    "MasterList.to_excel('MasterList_TEST_Updated.xlsx', index=False)"
   ]
  },
  {
   "cell_type": "code",
   "execution_count": null,
   "id": "53589431-9861-48cd-8251-fd81c0065fcf",
   "metadata": {},
   "outputs": [],
   "source": []
  }
 ],
 "metadata": {
  "kernelspec": {
   "display_name": "Python 3 (ipykernel)",
   "language": "python",
   "name": "python3"
  },
  "language_info": {
   "codemirror_mode": {
    "name": "ipython",
    "version": 3
   },
   "file_extension": ".py",
   "mimetype": "text/x-python",
   "name": "python",
   "nbconvert_exporter": "python",
   "pygments_lexer": "ipython3",
   "version": "3.12.6"
  }
 },
 "nbformat": 4,
 "nbformat_minor": 5
}
