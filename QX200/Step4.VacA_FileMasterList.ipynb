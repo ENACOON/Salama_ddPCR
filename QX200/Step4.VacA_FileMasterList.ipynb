{
 "cells": [
  {
   "cell_type": "code",
   "execution_count": 2,
   "id": "1f54a6f7-9d19-4862-9fc0-4955b74cf6a4",
   "metadata": {},
   "outputs": [
    {
     "name": "stdout",
     "output_type": "stream",
     "text": [
      "These samples are not found in the MasterList: ['EM17-1', 'EM18-1', 'EM41-2', 'G27', 'H2O', 'H2O', 'H2O', 'EM17-1', 'EM18-1', 'EM41-2', 'G27', 'H2O', 'H2O', 'H2O']\n"
     ]
    }
   ],
   "source": [
    "import pandas as pd\n",
    "import numpy as np\n",
    "#>>>>>> change path>>>>>>\n",
    "ANA = pd.read_excel (\"/Users/qchen2/Desktop/VacA_Plate2_MTH_Averaged.xlsx\")\n",
    "MasterList = pd.read_excel (\"/Users/qchen2/Desktop/MasterList_VacA_Plate1_Updated.xlsx\")\n",
    "AVRS = ANA.dropna()\n",
    "AVRS = AVRS[['Sample', 'Target', 'Average Conc (copies/uL)','Average Positives']]\n",
    "#18S-HEX\n",
    "#CagA-FAM; 16S-HEX\n",
    "#EPIYA_D - FAM; EPIYA_C - HEX\n",
    "#VacA_i2 - FAM; VacA_i1 - HEX\n",
    "avrs_FAM = AVRS[AVRS['Target'] == 'FAM']\n",
    "avrs_HEX = AVRS[AVRS['Target'] == 'HEX']\n",
    "\n",
    "unmatched_values = []\n",
    "for x1, y1 in avrs_FAM.iterrows():\n",
    "    for x2, y2 in MasterList.iterrows():\n",
    "        found_match = False \n",
    "        if y1.iloc[0] == y2.iloc[0]:\n",
    "            y2.iloc[17] = y1.iloc[3]# COLUMN R for Positive Droplets of VacA i2 y2.iloc[17]\n",
    "            y2.iloc[35] = y1.iloc[2] # COLUMN AJ for Concentration of VacA i2 y2.iloc[35]\n",
    "            found_match = True\n",
    "            break\n",
    "    if not found_match:\n",
    "        unmatched_values.append(y1.iloc[0])\n",
    "\n",
    "for x0, y0 in avrs_HEX.iterrows():\n",
    "    for x2, y2 in MasterList.iterrows():\n",
    "        found_match = False \n",
    "        if y0.iloc[0] == y2.iloc[0]:\n",
    "            y2.iloc[16] = y0.iloc[3] # COLUMN Q for Positive Droplets of VacA i1 y2.iloc[16]\n",
    "            y2.iloc[34] = y0.iloc[2]  # COLUMN AI for Concentration of VacA i1 y2.iloc[34]\n",
    "            found_match = True\n",
    "            break\n",
    "    if not found_match:\n",
    "        unmatched_values.append(y0.iloc[0])\n",
    "\n",
    "print (\"These samples are not found in the MasterList:\", unmatched_values)\n",
    "MasterList.columns = [\"\" if \"Unnamed\" in str(col) else col for col in MasterList.columns]\n",
    "MasterList.to_excel('MasterList_VacA_Plate2_Updated.xlsx', index=False)"
   ]
  },
  {
   "cell_type": "code",
   "execution_count": null,
   "id": "2e9a1b41-2d63-42d0-a915-f8300bbca5b4",
   "metadata": {},
   "outputs": [],
   "source": []
  }
 ],
 "metadata": {
  "kernelspec": {
   "display_name": "Python 3 (ipykernel)",
   "language": "python",
   "name": "python3"
  },
  "language_info": {
   "codemirror_mode": {
    "name": "ipython",
    "version": 3
   },
   "file_extension": ".py",
   "mimetype": "text/x-python",
   "name": "python",
   "nbconvert_exporter": "python",
   "pygments_lexer": "ipython3",
   "version": "3.12.6"
  }
 },
 "nbformat": 4,
 "nbformat_minor": 5
}
