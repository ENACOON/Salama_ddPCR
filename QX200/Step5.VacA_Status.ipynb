{
 "cells": [
  {
   "cell_type": "code",
   "execution_count": 1,
   "id": "1f54a6f7-9d19-4862-9fc0-4955b74cf6a4",
   "metadata": {},
   "outputs": [],
   "source": [
    "import pandas as pd\n",
    "import numpy as np\n",
    "MasterList = pd.read_excel (\"/Users/qchen2/Desktop/MasterList_VacA_Plate2_Updated.xlsx\")\n",
    "\n",
    " # COLUMN K for Status of VacA y2.iloc[10]\n",
    "for x in range(2, len(MasterList)):\n",
    "    if MasterList.iloc[x,16] > 5 and MasterList.iloc[x,17] > 5:\n",
    "        MasterList.iloc[x,10] = 3\n",
    "    # IF VacA i1 Droplets > 5 and VacA i2 Droplets <5: Status = 1\n",
    "    if MasterList.iloc[x,16] > 5 and MasterList.iloc[x,17] < 5:\n",
    "        MasterList.iloc[x,10] = 1\n",
    "    # IF VacA i1 Droplets < 5 and VacA i2 Droplets >5: Status = 2\n",
    "    if MasterList.iloc[x,16] < 5 and MasterList.iloc[x,17] > 5:\n",
    "        MasterList.iloc[x,10] = 2\n",
    "    # IF VacA i1 Droplets <5 and VacA i2 Droplets <5: Status = 0\n",
    "    if MasterList.iloc[x,16] < 5 and MasterList.iloc[x,17] < 5:\n",
    "        MasterList.iloc[x,10] = 0\n",
    "\n",
    "#Coding explanations\t\t\n",
    "#HP 16S\t0,1\t0= Negative, 1=Positive\n",
    "#CagA\t0,1\t0= Negative, 1=Positive\n",
    "#EPIYA\t0,1,2,3\t0=Negative, 1=EPIYA C, 2=EPIYA D, 3=EPIYA Mixed\n",
    "#VacA\t0,1,2,3\t0=Negative, 1=VacA i1, 2=VacA i2, 3=VacA Mixed\n",
    "\n",
    "MasterList.columns = [\"\" if \"Unnamed\" in str(col) else col for col in MasterList.columns]\n",
    "MasterList.to_excel('MasterList_FullyUpdated_22NOV2024.xlsx', index=False)"
   ]
  },
  {
   "cell_type": "code",
   "execution_count": null,
   "id": "16c5664d-06bd-4e37-9dfc-724741d1de88",
   "metadata": {},
   "outputs": [],
   "source": []
  }
 ],
 "metadata": {
  "kernelspec": {
   "display_name": "Python 3 (ipykernel)",
   "language": "python",
   "name": "python3"
  },
  "language_info": {
   "codemirror_mode": {
    "name": "ipython",
    "version": 3
   },
   "file_extension": ".py",
   "mimetype": "text/x-python",
   "name": "python",
   "nbconvert_exporter": "python",
   "pygments_lexer": "ipython3",
   "version": "3.12.6"
  }
 },
 "nbformat": 4,
 "nbformat_minor": 5
}
