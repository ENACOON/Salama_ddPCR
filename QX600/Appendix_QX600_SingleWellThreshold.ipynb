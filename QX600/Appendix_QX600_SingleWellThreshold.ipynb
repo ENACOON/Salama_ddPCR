{
 "cells": [
  {
   "cell_type": "code",
   "execution_count": 9,
   "id": "68fd9113-1425-4377-9a9c-c901083226e1",
   "metadata": {},
   "outputs": [],
   "source": [
    "#%pip install openpyxl\n",
    "#%pip install pandas"
   ]
  },
  {
   "cell_type": "code",
   "execution_count": 20,
   "id": "fbd30ba7-c36c-4bef-9001-c48eaddc9581",
   "metadata": {
    "scrolled": true
   },
   "outputs": [],
   "source": [
    "import pandas as pd\n",
    "import numpy as np\n",
    "import statistics as statistics\n",
    "from decimal import Decimal"
   ]
  },
  {
   "cell_type": "code",
   "execution_count": 27,
   "id": "d9092a2a-e3cb-4ec2-a67d-340ffbd434e9",
   "metadata": {},
   "outputs": [
    {
     "name": "stdout",
     "output_type": "stream",
     "text": [
      "The threshold of Channel 1 based on Well E07 is 1940.0840380099744\n",
      "The threshold of Channel 2 based on Well E07 is 1196.9012660369401\n",
      "The threshold of Channel 3 based on Well E07 is 3316.5407311789004\n",
      "The threshold of Channel 4 based on Well E07 is 1834.34582346982\n",
      "The threshold of Channel 5 based on Well E07 is 840.183663282849\n",
      "The threshold of Channel 6 based on Well E07 is 533.5161100491828\n"
     ]
    }
   ],
   "source": [
    "DataE07 = pd.read_csv(\"/Users/qchen2/Desktop/QX600_Multiplex_E07_Amplitude.csv\",skiprows=4,header=0,index_col=False)\n",
    "#Add  delimiter=','\n",
    "#>>>>Change path>>>>>>\n",
    "Ch1 = DataE07['Ch1Amplitude']\n",
    "Ch2 = DataE07['Ch2Amplitude']\n",
    "Ch3 = DataE07['Ch3Amplitude']\n",
    "Ch4 = DataE07['Ch4Amplitude']\n",
    "Ch5 = DataE07['Ch5Amplitude']\n",
    "Ch6 = DataE07['Ch6Amplitude']\n",
    "\n",
    "stdev1 = statistics.stdev(Ch1)\n",
    "stdev2 = statistics.stdev(Ch2)\n",
    "stdev3 = statistics.stdev(Ch3)\n",
    "stdev4 = statistics.stdev(Ch4)\n",
    "stdev5 = statistics.stdev(Ch5)\n",
    "stdev6 = statistics.stdev(Ch6)\n",
    "\n",
    "mean1 = statistics.mean(Ch1)\n",
    "mean2 = statistics.mean(Ch2)\n",
    "mean3 = statistics.mean(Ch3)\n",
    "mean4 = statistics.mean(Ch4)\n",
    "mean5 = statistics.mean(Ch5)\n",
    "mean6 = statistics.mean(Ch6)\n",
    "\n",
    "threshold1 = mean1 + 6*stdev1\n",
    "threshold2 = mean2 + 6*stdev2\n",
    "threshold3 = mean3 + 6*stdev3\n",
    "threshold4 = mean4 + 6*stdev4\n",
    "threshold5 = mean5 + 6*stdev5\n",
    "threshold6 = mean6 + 6*stdev6\n",
    "print (\"The threshold of Channel 1 based on Well E07 is\",threshold1)\n",
    "print (\"The threshold of Channel 2 based on Well E07 is\",threshold2)\n",
    "print (\"The threshold of Channel 3 based on Well E07 is\",threshold3)\n",
    "print (\"The threshold of Channel 4 based on Well E07 is\",threshold4)\n",
    "print (\"The threshold of Channel 5 based on Well E07 is\",threshold5)\n",
    "print (\"The threshold of Channel 6 based on Well E07 is\",threshold6)"
   ]
  },
  {
   "cell_type": "code",
   "execution_count": 28,
   "id": "a4469e29-dc48-4c35-8ffb-176b4d372002",
   "metadata": {},
   "outputs": [
    {
     "name": "stdout",
     "output_type": "stream",
     "text": [
      "The threshold of Channel 1 based on Well F07 is 1597.5587473130288\n",
      "The threshold of Channel 2 based on Well F07 is 985.212909020451\n",
      "The threshold of Channel 3 based on Well F07 is 2618.9871136553056\n",
      "The threshold of Channel 4 based on Well F07 is 1460.8957192617163\n",
      "The threshold of Channel 5 based on Well F07 is 575.0888548257984\n",
      "The threshold of Channel 6 based on Well F07 is 471.1864352044545\n"
     ]
    }
   ],
   "source": [
    "DataF07 = pd.read_csv(\"/Users/qchen2/Desktop/QX600_Multiplex_F07_Amplitude.csv\",skiprows=4,header=0,index_col=False)\n",
    "\n",
    "Ch1 = DataF07['Ch1Amplitude']\n",
    "Ch2 = DataF07['Ch2Amplitude']\n",
    "Ch3 = DataF07['Ch3Amplitude']\n",
    "Ch4 = DataF07['Ch4Amplitude']\n",
    "Ch5 = DataF07['Ch5Amplitude']\n",
    "Ch6 = DataF07['Ch6Amplitude']\n",
    "\n",
    "stdev1 = statistics.stdev(Ch1)\n",
    "stdev2 = statistics.stdev(Ch2)\n",
    "stdev3 = statistics.stdev(Ch3)\n",
    "stdev4 = statistics.stdev(Ch4)\n",
    "stdev5 = statistics.stdev(Ch5)\n",
    "stdev6 = statistics.stdev(Ch6)\n",
    "\n",
    "mean1 = statistics.mean(Ch1)\n",
    "mean2 = statistics.mean(Ch2)\n",
    "mean3 = statistics.mean(Ch3)\n",
    "mean4 = statistics.mean(Ch4)\n",
    "mean5 = statistics.mean(Ch5)\n",
    "mean6 = statistics.mean(Ch6)\n",
    "\n",
    "threshold1 = mean1 + 6*stdev1\n",
    "threshold2 = mean2 + 6*stdev2\n",
    "threshold3 = mean3 + 6*stdev3\n",
    "threshold4 = mean4 + 6*stdev4\n",
    "threshold5 = mean5 + 6*stdev5\n",
    "threshold6 = mean6 + 6*stdev6\n",
    "\n",
    "print (\"The threshold of Channel 1 based on Well F07 is\",threshold1)\n",
    "print (\"The threshold of Channel 2 based on Well F07 is\",threshold2)\n",
    "print (\"The threshold of Channel 3 based on Well F07 is\",threshold3)\n",
    "print (\"The threshold of Channel 4 based on Well F07 is\",threshold4)\n",
    "print (\"The threshold of Channel 5 based on Well F07 is\",threshold5)\n",
    "print (\"The threshold of Channel 6 based on Well F07 is\",threshold6)"
   ]
  },
  {
   "cell_type": "code",
   "execution_count": 32,
   "id": "aaa5843b-1bca-44ed-a5ab-346b923d0700",
   "metadata": {},
   "outputs": [
    {
     "name": "stdout",
     "output_type": "stream",
     "text": [
      "The threshold of Channel 1 based on Well F07 and E07 is 1768.8213926615017\n",
      "The threshold of Channel 2 based on Well F07 and E07 is 1091.0570875286955\n",
      "The threshold of Channel 3 based on Well F07 and E07 is 2967.7639224171025\n",
      "The threshold of Channel 4 based on Well F07 and E07is 1647.6207713657682\n",
      "The threshold of Channel 5 based on Well F07 and E07is 707.6362590543238\n",
      "The threshold of Channel 6 based on Well F07 and E07is 502.3512726268186\n"
     ]
    }
   ],
   "source": [
    "DataF07 = pd.read_csv(\"/Users/qchen2/Desktop/QX600_Multiplex_F07_Amplitude.csv\",skiprows=4,header=0,index_col=False)\n",
    "DataE07 = pd.read_csv(\"/Users/qchen2/Desktop/QX600_Multiplex_E07_Amplitude.csv\",skiprows=4,header=0,index_col=False)\n",
    "\n",
    "CH1 = DataE07['Ch1Amplitude']\n",
    "CH2 = DataE07['Ch2Amplitude']\n",
    "CH3 = DataE07['Ch3Amplitude']\n",
    "CH4 = DataE07['Ch4Amplitude']\n",
    "CH5 = DataE07['Ch5Amplitude']\n",
    "CH6 = DataE07['Ch6Amplitude']\n",
    "Ch1 = DataF07['Ch1Amplitude']\n",
    "Ch2 = DataF07['Ch2Amplitude']\n",
    "Ch3 = DataF07['Ch3Amplitude']\n",
    "Ch4 = DataF07['Ch4Amplitude']\n",
    "Ch5 = DataF07['Ch5Amplitude']\n",
    "Ch6 = DataF07['Ch6Amplitude']\n",
    "\n",
    "std1 = statistics.stdev(Ch1)\n",
    "std2 = statistics.stdev(Ch2)\n",
    "std3 = statistics.stdev(Ch3)\n",
    "std4 = statistics.stdev(Ch4)\n",
    "std5 = statistics.stdev(Ch5)\n",
    "std6 = statistics.stdev(Ch6)\n",
    "STD1 = statistics.stdev(CH1)\n",
    "STD2 = statistics.stdev(CH2)\n",
    "STD3 = statistics.stdev(CH3)\n",
    "STD4 = statistics.stdev(CH4)\n",
    "STD5 = statistics.stdev(CH5)\n",
    "STD6 = statistics.stdev(CH6)\n",
    "\n",
    "mean1 = statistics.mean(Ch1)\n",
    "mean2 = statistics.mean(Ch2)\n",
    "mean3 = statistics.mean(Ch3)\n",
    "mean4 = statistics.mean(Ch4)\n",
    "mean5 = statistics.mean(Ch5)\n",
    "mean6 = statistics.mean(Ch6)\n",
    "M1 = statistics.mean(CH1)\n",
    "M2 = statistics.mean(CH2)\n",
    "M3 = statistics.mean(CH3)\n",
    "M4 = statistics.mean(CH4)\n",
    "M5 = statistics.mean(CH5)\n",
    "M6 = statistics.mean(CH6)\n",
    "\n",
    "threshold1 = (mean1+M1)/2 + 6*(std1+STD1)/2\n",
    "threshold2 = (mean2+M2)/2 + 6*(std2+STD2)/2\n",
    "threshold3 = (mean3+M3)/2 + 6*(std3+STD3)/2\n",
    "threshold4 = (mean4+M4)/2 + 6*(std4+STD4)/2\n",
    "threshold5 = (mean5+M5)/2 + 6*(std5+STD5)/2\n",
    "threshold6 = (mean6+M6)/2 + 6*(std6+STD6)/2\n",
    "print (\"The threshold of Channel 1 based on Well F07 and E07 is\",threshold1)\n",
    "print (\"The threshold of Channel 2 based on Well F07 and E07 is\",threshold2)\n",
    "print (\"The threshold of Channel 3 based on Well F07 and E07 is\",threshold3)\n",
    "print (\"The threshold of Channel 4 based on Well F07 and E07is\",threshold4)\n",
    "print (\"The threshold of Channel 5 based on Well F07 and E07is\",threshold5)\n",
    "print (\"The threshold of Channel 6 based on Well F07 and E07is\",threshold6)"
   ]
  },
  {
   "cell_type": "code",
   "execution_count": null,
   "id": "45267104-1c57-464e-a3de-40d194bb9d1f",
   "metadata": {},
   "outputs": [],
   "source": []
  }
 ],
 "metadata": {
  "kernelspec": {
   "display_name": "Python 3 (ipykernel)",
   "language": "python",
   "name": "python3"
  },
  "language_info": {
   "codemirror_mode": {
    "name": "ipython",
    "version": 3
   },
   "file_extension": ".py",
   "mimetype": "text/x-python",
   "name": "python",
   "nbconvert_exporter": "python",
   "pygments_lexer": "ipython3",
   "version": "3.12.6"
  }
 },
 "nbformat": 4,
 "nbformat_minor": 5
}
